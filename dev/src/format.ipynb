{
 "cells": [
  {
   "cell_type": "code",
   "execution_count": 25,
   "metadata": {},
   "outputs": [],
   "source": [
    "import json\n",
    "import csv\n",
    "import pandas as pd\n",
    "from datetime import datetime\n",
    "\n",
    "log_file = '../log/access.log'\n",
    "csv_file = 'access.csv'\n",
    "\n",
    "CONST_INPUT_DATE = \"%d/%b/%Y:%H:%M:%S %z\"\n",
    "CONST_OUTPUT_DATE = \"%Y-%m-%dT%H:%M:%S.%fZ\"\n",
    "\n",
    "with open(log_file, 'r') as f_log, open(csv_file, 'w', newline='') as f_csv:\n",
    "    writer = csv.writer(f_csv)\n",
    "    for line in f_log:\n",
    "        log_dict = json.loads(line)\n",
    "\n",
    "        keys_to_select = ['time_local','remote_addr', 'http_user_agent']\n",
    "        output_format = \"%Y-%m-%dT%H:%M:%S.%fZ\"\n",
    "\n",
    "        selected_values = {key: log_dict.get(key) for key in keys_to_select}\n",
    "        \n",
    "        old_format_date = datetime.strptime(selected_values['time_local'],CONST_INPUT_DATE)\n",
    "        new_format_date = datetime.strftime(old_format_date, CONST_OUTPUT_DATE)\n",
    "        selected_values['time_local'] = new_format_date\n",
    "        writer.writerow(selected_values.values())\n"
   ]
  },
  {
   "cell_type": "code",
   "execution_count": 11,
   "metadata": {},
   "outputs": [],
   "source": [
    "import json\n",
    "import csv\n",
    "import pandas as pd\n",
    "\n",
    "log_file = '../sub_dataset/part_1.txt'\n",
    "csv_file = '../csv/access.csv'\n",
    "\n",
    "with open(log_file, 'r') as f_log, open(csv_file, 'w', newline='') as f_csv:\n",
    "    writer = csv.writer(f_csv)\n",
    "    for row in f_log:\n",
    "        format_row = split_row(row)\n",
    "        # print(format_row)\n",
    "        writer.writerow(format_row)"
   ]
  }
 ],
 "metadata": {
  "kernelspec": {
   "display_name": "Python 3",
   "language": "python",
   "name": "python3"
  },
  "language_info": {
   "codemirror_mode": {
    "name": "ipython",
    "version": 3
   },
   "file_extension": ".py",
   "mimetype": "text/x-python",
   "name": "python",
   "nbconvert_exporter": "python",
   "pygments_lexer": "ipython3",
   "version": "3.11.4"
  },
  "orig_nbformat": 4
 },
 "nbformat": 4,
 "nbformat_minor": 2
}
