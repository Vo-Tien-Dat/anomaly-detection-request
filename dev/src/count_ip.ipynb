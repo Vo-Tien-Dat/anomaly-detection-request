{
 "cells": [
  {
   "cell_type": "markdown",
   "metadata": {},
   "source": [
    "### Mô tả ý tưởng\n",
    " * Nếu một ngày số lượng IP truy cập quá lớn, được xem đây là vấn đề\n",
    "\n",
    "### Triển khai \n",
    "1. Tính số lượng IP tuy cập trong một ngày\n",
    "2. Tìm mật độ số lượng IP truy cập trong một ngày\n",
    "3. Sử dụng CDF và PDF để đánh giá"
   ]
  },
  {
   "cell_type": "code",
   "execution_count": 89,
   "metadata": {},
   "outputs": [],
   "source": [
    "import pandas as pd"
   ]
  },
  {
   "cell_type": "code",
   "execution_count": 90,
   "metadata": {},
   "outputs": [
    {
     "data": {
      "text/html": [
       "<div>\n",
       "<style scoped>\n",
       "    .dataframe tbody tr th:only-of-type {\n",
       "        vertical-align: middle;\n",
       "    }\n",
       "\n",
       "    .dataframe tbody tr th {\n",
       "        vertical-align: top;\n",
       "    }\n",
       "\n",
       "    .dataframe thead th {\n",
       "        text-align: right;\n",
       "    }\n",
       "</style>\n",
       "<table border=\"1\" class=\"dataframe\">\n",
       "  <thead>\n",
       "    <tr style=\"text-align: right;\">\n",
       "      <th></th>\n",
       "      <th>time_stamp</th>\n",
       "      <th>source</th>\n",
       "      <th>message</th>\n",
       "    </tr>\n",
       "  </thead>\n",
       "  <tbody>\n",
       "    <tr>\n",
       "      <th>0</th>\n",
       "      <td>2023-06-12 07:35:29.018000+00:00</td>\n",
       "      <td>VNG_baobd2</td>\n",
       "      <td>Nginx Query</td>\n",
       "    </tr>\n",
       "    <tr>\n",
       "      <th>1</th>\n",
       "      <td>2023-06-12 07:36:55.025000+00:00</td>\n",
       "      <td>103.245.252.19</td>\n",
       "      <td>Nginx Query</td>\n",
       "    </tr>\n",
       "    <tr>\n",
       "      <th>2</th>\n",
       "      <td>2023-06-12 07:36:55.032000+00:00</td>\n",
       "      <td>103.245.252.19</td>\n",
       "      <td>Nginx Query</td>\n",
       "    </tr>\n",
       "    <tr>\n",
       "      <th>3</th>\n",
       "      <td>2023-06-12 07:37:25.001000+00:00</td>\n",
       "      <td>103.245.252.75</td>\n",
       "      <td>Nginx Query</td>\n",
       "    </tr>\n",
       "    <tr>\n",
       "      <th>4</th>\n",
       "      <td>2023-06-12 07:41:31.223000+00:00</td>\n",
       "      <td>103.245.252.19</td>\n",
       "      <td>Nginx Query</td>\n",
       "    </tr>\n",
       "  </tbody>\n",
       "</table>\n",
       "</div>"
      ],
      "text/plain": [
       "                        time_stamp          source      message\n",
       "0 2023-06-12 07:35:29.018000+00:00      VNG_baobd2  Nginx Query\n",
       "1 2023-06-12 07:36:55.025000+00:00  103.245.252.19  Nginx Query\n",
       "2 2023-06-12 07:36:55.032000+00:00  103.245.252.19  Nginx Query\n",
       "3 2023-06-12 07:37:25.001000+00:00  103.245.252.75  Nginx Query\n",
       "4 2023-06-12 07:41:31.223000+00:00  103.245.252.19  Nginx Query"
      ]
     },
     "execution_count": 90,
     "metadata": {},
     "output_type": "execute_result"
    }
   ],
   "source": [
    "col_names = ['time_stamp', 'source', 'message']\n",
    "# col_names = ['ip_address', 'time_stamp', 'request', 'status_code', 'response_size', 'user_agent']\n",
    "\n",
    "file_path = '../dataset/access_log_1.csv'\n",
    "data = pd.read_csv(file_path, header = 0 , names = col_names)\n",
    "data['time_stamp'] = pd.to_datetime(data['time_stamp'])\n",
    "data.head()"
   ]
  },
  {
   "cell_type": "code",
   "execution_count": 91,
   "metadata": {},
   "outputs": [
    {
     "data": {
      "text/html": [
       "<div>\n",
       "<style scoped>\n",
       "    .dataframe tbody tr th:only-of-type {\n",
       "        vertical-align: middle;\n",
       "    }\n",
       "\n",
       "    .dataframe tbody tr th {\n",
       "        vertical-align: top;\n",
       "    }\n",
       "\n",
       "    .dataframe thead th {\n",
       "        text-align: right;\n",
       "    }\n",
       "</style>\n",
       "<table border=\"1\" class=\"dataframe\">\n",
       "  <thead>\n",
       "    <tr style=\"text-align: right;\">\n",
       "      <th></th>\n",
       "      <th>time_stamp</th>\n",
       "      <th>source</th>\n",
       "      <th>message</th>\n",
       "      <th>date</th>\n",
       "    </tr>\n",
       "  </thead>\n",
       "  <tbody>\n",
       "    <tr>\n",
       "      <th>0</th>\n",
       "      <td>2023-06-12 07:35:29.018000+00:00</td>\n",
       "      <td>VNG_baobd2</td>\n",
       "      <td>Nginx Query</td>\n",
       "      <td>12-06</td>\n",
       "    </tr>\n",
       "    <tr>\n",
       "      <th>1</th>\n",
       "      <td>2023-06-12 07:36:55.025000+00:00</td>\n",
       "      <td>103.245.252.19</td>\n",
       "      <td>Nginx Query</td>\n",
       "      <td>12-06</td>\n",
       "    </tr>\n",
       "    <tr>\n",
       "      <th>2</th>\n",
       "      <td>2023-06-12 07:36:55.032000+00:00</td>\n",
       "      <td>103.245.252.19</td>\n",
       "      <td>Nginx Query</td>\n",
       "      <td>12-06</td>\n",
       "    </tr>\n",
       "    <tr>\n",
       "      <th>3</th>\n",
       "      <td>2023-06-12 07:37:25.001000+00:00</td>\n",
       "      <td>103.245.252.75</td>\n",
       "      <td>Nginx Query</td>\n",
       "      <td>12-06</td>\n",
       "    </tr>\n",
       "    <tr>\n",
       "      <th>4</th>\n",
       "      <td>2023-06-12 07:41:31.223000+00:00</td>\n",
       "      <td>103.245.252.19</td>\n",
       "      <td>Nginx Query</td>\n",
       "      <td>12-06</td>\n",
       "    </tr>\n",
       "  </tbody>\n",
       "</table>\n",
       "</div>"
      ],
      "text/plain": [
       "                        time_stamp          source      message   date\n",
       "0 2023-06-12 07:35:29.018000+00:00      VNG_baobd2  Nginx Query  12-06\n",
       "1 2023-06-12 07:36:55.025000+00:00  103.245.252.19  Nginx Query  12-06\n",
       "2 2023-06-12 07:36:55.032000+00:00  103.245.252.19  Nginx Query  12-06\n",
       "3 2023-06-12 07:37:25.001000+00:00  103.245.252.75  Nginx Query  12-06\n",
       "4 2023-06-12 07:41:31.223000+00:00  103.245.252.19  Nginx Query  12-06"
      ]
     },
     "execution_count": 91,
     "metadata": {},
     "output_type": "execute_result"
    }
   ],
   "source": [
    "from datetime import datetime\n",
    "\n",
    "FORMAT_DATE_PATTERN = \"%d-%m\"\n",
    "\n",
    "data['date'] = data['time_stamp'].dt.strftime(FORMAT_DATE_PATTERN)\n",
    "data.head()\n",
    "\n"
   ]
  },
  {
   "cell_type": "code",
   "execution_count": 92,
   "metadata": {},
   "outputs": [
    {
     "name": "stdout",
     "output_type": "stream",
     "text": [
      "     date   count\n",
      "0   01-07       1\n",
      "1   04-07       1\n",
      "2   07-07    9757\n",
      "3   10-07     147\n",
      "4   11-07     237\n",
      "5   12-06   36467\n",
      "6   12-07       8\n",
      "7   13-06      16\n",
      "8   13-07   26643\n",
      "9   14-06    2425\n",
      "10  15-06   35323\n",
      "11  16-06   26602\n",
      "12  17-07    1158\n",
      "13  18-07    4468\n",
      "14  19-06  271276\n",
      "15  19-07       1\n",
      "16  20-06  183708\n",
      "17  21-06  189996\n",
      "18  22-06  218187\n",
      "19  23-06   78288\n",
      "20  26-06   44868\n",
      "21  27-06   28751\n",
      "22  28-06   32524\n",
      "23  30-06  146177\n"
     ]
    }
   ],
   "source": [
    "ipCounts = data.groupby('date')['source'].count().reset_index()\n",
    "ipCounts = ipCounts.rename(columns={'source': 'count'})\n",
    "print(ipCounts)\n",
    "\n",
    "import seaborn as sns\n",
    "import matplotlib.pyplot as plt\n",
    "import matplotlib.dates as mdates\n",
    "\n",
    "# sns.histplot(data.groupby('time_stamp')['source'], bins = 30)\n",
    "# plt.gca().xaxis.set_major_formatter(mdates.DateFormatter('%d-%m'))\n",
    "# plt.xticks(rotation=45)"
   ]
  },
  {
   "cell_type": "code",
   "execution_count": 103,
   "metadata": {},
   "outputs": [
    {
     "data": {
      "text/plain": [
       "139.99.69.34       32522\n",
       "VNG_baobd2          3817\n",
       "VNG_antqt             23\n",
       "VNG_khoabda           14\n",
       "103.245.252.76        11\n",
       "84.17.59.83            7\n",
       "172.111.197.66         7\n",
       "138.199.18.85          7\n",
       "69.16.157.5            5\n",
       "216.151.180.3          4\n",
       "103.9.79.230           4\n",
       "185.242.7.134          4\n",
       "171.249.93.255         4\n",
       "103.9.79.189           3\n",
       "52.64.212.194          3\n",
       "103.245.252.19         3\n",
       "20.163.64.196          2\n",
       "104.37.28.2            2\n",
       "195.201.198.102        2\n",
       "85.255.234.210         1\n",
       "103.245.252.75         1\n",
       "212.102.57.218         1\n",
       "207.241.232.89         1\n",
       "209.58.162.239         1\n",
       "93.174.93.114          1\n",
       "94.102.63.27           1\n",
       "18.132.194.134         1\n",
       "23.137.251.61          1\n",
       "15.160.57.181          1\n",
       "23.137.249.143         1\n",
       "185.246.188.74         1\n",
       "34.172.181.131         1\n",
       "146.70.103.137         1\n",
       "146.70.103.135         1\n",
       "103.4.19.25            1\n",
       "23.254.203.138         1\n",
       "103.195.4.182          1\n",
       "49.213.78.31           1\n",
       "VNG_hainm2             1\n",
       "82.132.229.156         1\n",
       "34.71.79.155           1\n",
       "54.188.77.0            1\n",
       "Name: source, dtype: int64"
      ]
     },
     "execution_count": 103,
     "metadata": {},
     "output_type": "execute_result"
    }
   ],
   "source": [
    "# dayByDay =  data.groupby(pd.Grouper(key = 'time_stamp', freq= 'D'))\n",
    "# unique_ips_by_day = dayByDay['source'].nunique()\n",
    "# for day, ips in unique_ips_by_day.items():\n",
    "#     plt.hist(ips, bins=10)\n",
    "#     plt.title(f\"IP histogram for {day.strftime('%Y-%m-%d')}\")\n",
    "#     plt.xlabel(\"IP address\")\n",
    "#     plt.ylabel(\"Count\")\n",
    "#     plt.show()\n",
    "\n",
    "dataGroupByDate = data[data['date'] == '12-06']\n",
    "dataGroupByDate['source'].value_counts()\n",
    "# dataGroupByDate.count()"
   ]
  }
 ],
 "metadata": {
  "kernelspec": {
   "display_name": "Python 3",
   "language": "python",
   "name": "python3"
  },
  "language_info": {
   "codemirror_mode": {
    "name": "ipython",
    "version": 3
   },
   "file_extension": ".py",
   "mimetype": "text/x-python",
   "name": "python",
   "nbconvert_exporter": "python",
   "pygments_lexer": "ipython3",
   "version": "3.11.4"
  },
  "orig_nbformat": 4
 },
 "nbformat": 4,
 "nbformat_minor": 2
}
